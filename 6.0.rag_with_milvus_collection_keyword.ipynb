{
 "cells": [
  {
   "cell_type": "markdown",
   "metadata": {},
   "source": [
    "# 1. Package 설치"
   ]
  },
  {
   "cell_type": "code",
   "execution_count": null,
   "metadata": {},
   "outputs": [],
   "source": [
    "%pip install --upgrade pymilvus langchain openai tiktoken"
   ]
  },
  {
   "cell_type": "markdown",
   "metadata": {},
   "source": [
    "# 2. Knowledge Base 구성을 위한 데이터 생성"
   ]
  },
  {
   "cell_type": "markdown",
   "metadata": {},
   "source": [
    "- 4. LangChain을 활용한 Vector Database 변경 (Chroma -> Milvus)과 동일함"
   ]
  },
  {
   "cell_type": "code",
   "execution_count": 10,
   "metadata": {},
   "outputs": [],
   "source": [
    "from langchain_community.document_loaders import Docx2txtLoader\n",
    "from langchain_text_splitters import RecursiveCharacterTextSplitter\n",
    "\n",
    "text_splitter = RecursiveCharacterTextSplitter(\n",
    "    chunk_size=1024,\n",
    "    chunk_overlap=128,\n",
    ")\n",
    "\n",
    "# 개인정보 보호법\n",
    "document_name = './medical_with_markdown.docx'\n",
    "\n",
    "loader = Docx2txtLoader(document_name)\n",
    "document_list = loader.load_and_split(text_splitter=text_splitter)"
   ]
  },
  {
   "cell_type": "code",
   "execution_count": 11,
   "metadata": {},
   "outputs": [
    {
     "data": {
      "text/plain": [
       "86"
      ]
     },
     "execution_count": 11,
     "metadata": {},
     "output_type": "execute_result"
    }
   ],
   "source": [
    "len_list = len(document_list)\n",
    "len_list"
   ]
  },
  {
   "cell_type": "code",
   "execution_count": 12,
   "metadata": {},
   "outputs": [
    {
     "data": {
      "text/plain": [
       "Document(metadata={'source': './privacy_with_markdown.docx'}, page_content='1. 제25조제5항(제26조제8항에 따라 준용되는 경우를 포함한다)을 위반하여 고정형 영상정보처리기기의 설치 목적과 다른 목적으로 고정형 영상정보처리기기를 임의로 조작하거나 다른 곳을 비추는 자 또는 녹음기능을 사용한 자\\n\\n2. 제59조제1호를 위반하여 거짓이나 그 밖의 부정한 수단이나 방법으로 개인정보를 취득하거나 개인정보 처리에 관한 동의를 받는 행위를 한 자 및 그 사정을 알면서도 영리 또는 부정한 목적으로 개인정보를 제공받은 자\\n\\n3. 제60조를 위반하여 직무상 알게 된 비밀을 누설하거나 직무상 목적 외에 이용한 자\\n\\n\\n\\n제73조(벌칙) ① 다음 각 호의 어느 하나에 해당하는 자는 2년 이하의 징역 또는 2천만원 이하의 벌금에 처한다.\\n\\n1. 제36조제2항(제26조제8항에 따라 준용되는 경우를 포함한다)을 위반하여 정정ㆍ삭제 등 필요한 조치를 하지 아니하고 개인정보를 계속 이용하거나 이를 제3자에게 제공한 자\\n\\n2. 제37조제2항(제26조제8항에 따라 준용되는 경우를 포함한다)을 위반하여 개인정보의 처리를 정지하지 아니하고 개인정보를 계속 이용하거나 제3자에게 제공한 자\\n\\n3. 국내외에서 정당한 이유 없이 제39조의4에 따른 비밀유지명령을 위반한 자\\n\\n4. 제63조제1항(제26조제8항에 따라 준용되는 경우를 포함한다)에 따른 자료제출 요구에 대하여 법 위반사항을 은폐 또는 축소할 목적으로 자료제출을 거부하거나 거짓의 자료를 제출한 자\\n\\n5. 제63조제2항(제26조제8항에 따라 준용되는 경우를 포함한다)에 따른 출입ㆍ검사 시 자료의 은닉ㆍ폐기, 접근 거부 또는 위조ㆍ변조 등을 통하여 조사를 거부ㆍ방해 또는 기피한 자\\n\\n② 제1항제3호의 죄는 비밀유지명령을 신청한 자의 고소가 없으면 공소를 제기할 수 없다.\\n\\n[전문개정 2023. 3. 14.]')"
      ]
     },
     "execution_count": 12,
     "metadata": {},
     "output_type": "execute_result"
    }
   ],
   "source": [
    "document_list[len_list - 10]"
   ]
  },
  {
   "cell_type": "code",
   "execution_count": 13,
   "metadata": {},
   "outputs": [
    {
     "data": {
      "text/plain": [
       "True"
      ]
     },
     "execution_count": 13,
     "metadata": {},
     "output_type": "execute_result"
    }
   ],
   "source": [
    "from dotenv import load_dotenv\n",
    "from langchain_openai import OpenAIEmbeddings\n",
    "\n",
    "load_dotenv()"
   ]
  },
  {
   "cell_type": "code",
   "execution_count": 25,
   "metadata": {},
   "outputs": [],
   "source": [
    "import os\n",
    "\n",
    "from langchain.vectorstores.zilliz import Zilliz\n",
    "\n",
    "# 1. Set up the name of the collection to be created.\n",
    "COLLECTION_NAME = 'medical_law_index'\n",
    "\n",
    "# 2. Set up the dimension of the embeddings.\n",
    "DIMENSION = 768\n",
    "\n",
    "# 3. Set up the cohere api key\n",
    "OPENAI_API_KEY = os.environ[\"OPENAI_API_KEY\"]\n",
    "\n",
    "# 4. Set up the connection parameters for your Zilliz Cloud cluster.\n",
    "URI = os.environ[\"MILVUS_CLUSTER_ENDPOINT\"]\n",
    "\n",
    "# 5. Set up the token for your Zilliz Cloud cluster.\n",
    "# You can either use an API key or a set of cluster username and password joined by a colon.\n",
    "TOKEN = os.environ[\"MILVUS_TOKEN\"]"
   ]
  },
  {
   "cell_type": "code",
   "execution_count": 26,
   "metadata": {},
   "outputs": [
    {
     "name": "stdout",
     "output_type": "stream",
     "text": [
      "medical_law_index state: Loaded\n"
     ]
    }
   ],
   "source": [
    "# Connect using a MilvusClient object\n",
    "from pymilvus import MilvusClient, DataType\n",
    "\n",
    "# 1. Set up a Milvus client\n",
    "client = MilvusClient(\n",
    "    uri=URI,\n",
    "    token=TOKEN\n",
    ")\n",
    "\n",
    "res = client.get_load_state(\n",
    "    collection_name=COLLECTION_NAME\n",
    ")\n",
    "print(f\"{COLLECTION_NAME} state: {res['state']}\")\n",
    "res_state = str(res['state'])"
   ]
  },
  {
   "cell_type": "code",
   "execution_count": 28,
   "metadata": {},
   "outputs": [
    {
     "name": "stdout",
     "output_type": "stream",
     "text": [
      "is_create: False\n"
     ]
    }
   ],
   "source": [
    "is_create = False\n",
    "if res_state == 'NotExist':\n",
    "    is_create = True\n",
    "print(f\"is_create: {is_create}\")\n",
    "\n",
    "embeddings = OpenAIEmbeddings(model='text-embedding-3-large')\n",
    "connection_args = { 'uri': URI, 'token': TOKEN }\n",
    "\n",
    "if is_create:\n",
    "    ids = [str(i) for i in range(len(document_list))]\n",
    "\n",
    "    vector_store = Zilliz(\n",
    "        embedding_function=embeddings, \n",
    "        connection_args=connection_args,\n",
    "        collection_name=COLLECTION_NAME,\n",
    "        drop_old=True,\n",
    "        auto_id=True\n",
    "    ).from_documents(\n",
    "        document_list,\n",
    "        embedding=embeddings,\n",
    "        collection_name=COLLECTION_NAME,\n",
    "        connection_args=connection_args,\n",
    "        ids = ids\n",
    "    )\n",
    "else:\n",
    "    vector_store = Zilliz(\n",
    "        embedding_function=embeddings,\n",
    "        collection_name=COLLECTION_NAME,\n",
    "        connection_args=connection_args\n",
    "    )"
   ]
  },
  {
   "cell_type": "code",
   "execution_count": 29,
   "metadata": {},
   "outputs": [],
   "source": [
    "query = '의료기관에서 의료사고가 발생했을 때, 병원과 의료진의 법적 책임은 어떻게 되나요?'"
   ]
  },
  {
   "cell_type": "markdown",
   "metadata": {},
   "source": [
    "# 3. 답변 생성을 위한 Retrieval"
   ]
  },
  {
   "cell_type": "markdown",
   "metadata": {},
   "source": [
    "- RetrievalQA에 전달하기 위해 retriever 생성\n",
    "- search_kwargs의 k값을 변경해서 가져올 문서의 갯수를 지정할 수 있음\n",
    "- .invoke()를 호출해서 어떤 문서를 가져오는지 확인 가능"
   ]
  },
  {
   "cell_type": "code",
   "execution_count": 30,
   "metadata": {},
   "outputs": [
    {
     "data": {
      "text/plain": [
       "[Document(metadata={'source': './medical_with_markdown.docx', 'pk': '4'}, page_content='③ 보건복지부장관은 제1항에 따라 전문병원으로 지정하는 경우 제2항 각 호의 사항 및 진료의 난이도 등에 대하여 평가를 실시하여야 한다.<개정 2010. 1. 18.>\\n\\n④ 보건복지부장관은 제1항에 따라 전문병원으로 지정받은 의료기관에 대하여 3년마다 제3항에 따른 평가를 실시하여 전문병원으로 재지정할 수 있다.<개정 2010. 1. 18., 2015. 1. 28.>\\n\\n⑤ 보건복지부장관은 제1항 또는 제4항에 따라 지정받거나 재지정받은 전문병원이 다음 각 호의 어느 하나에 해당하는 경우에는 그 지정 또는 재지정을 취소할 수 있다. 다만, 제1호에 해당하는 경우에는 그 지정 또는 재지정을 취소하여야 한다.<신설 2015. 1. 28.>\\n\\n1. 거짓이나 그 밖의 부정한 방법으로 지정 또는 재지정을 받은 경우\\n\\n2. 지정 또는 재지정의 취소를 원하는 경우\\n\\n3. 제4항에 따른 평가 결과 제2항 각 호의 요건을 갖추지 못한 것으로 확인된 경우\\n\\n⑥ 보건복지부장관은 제3항 및 제4항에 따른 평가업무를 관계 전문기관 또는 단체에 위탁할 수 있다.<개정 2010. 1. 18., 2015. 1. 28.>\\n\\n⑦ 전문병원 지정ㆍ재지정의 기준ㆍ절차 및 평가업무의 위탁 절차 등에 관하여 필요한 사항은 보건복지부령으로 정한다.<개정 2010. 1. 18., 2015. 1. 28.>\\n\\n[본조신설 2009. 1. 30.]\\n\\n\\n\\n제2장 의료인\\n\\n\\n\\n제1절 자격과 면허\\n\\n\\n\\n제4조(의료인과 의료기관의 장의 의무) ①의료인과 의료기관의 장은 의료의 질을 높이고 의료관련감염(의료기관 내에서 환자, 환자의 보호자, 의료인 또는 의료기관 종사자 등에게 발생하는 감염을 말한다. 이하 같다)을 예방하며 의료기술을 발전시키는 등 환자에게 최선의 의료서비스를 제공하기 위하여 노력하여야 한다. <개정 2012. 2. 1., 2020. 3. 4.>\\n\\n② 의료인은 다른 의료인 또는 의료법인 등의 명의로 의료기관을 개설하거나 운영할 수 없다.<신설 2012. 2. 1., 2019. 8. 27.>'),\n",
       " Document(metadata={'source': './medical_with_markdown.docx', 'pk': '10'}, page_content='②보건복지부장관은 제5조부터 제7조까지의 규정에 따른 면허를 내줄 때에는 그 면허에 관한 사항을 등록대장에 등록하고 면허증을 내주어야 한다.<개정 2008. 2. 29., 2010. 1. 18.>\\n\\n③제2항의 등록대장은 의료인의 종별로 따로 작성ㆍ비치하여야 한다.\\n\\n④면허등록과 면허증에 필요한 사항은 보건복지부령으로 정한다.<개정 2008. 2. 29., 2010. 1. 18.>\\n\\n\\n\\n제12조(의료기술 등에 대한 보호) ①의료인이 하는 의료ㆍ조산ㆍ간호 등 의료기술의 시행(이하 “의료행위”라 한다)에 대하여는 이 법이나 다른 법령에 따로 규정된 경우 외에는 누구든지 간섭하지 못한다.\\n\\n②누구든지 의료기관의 의료용 시설ㆍ기재ㆍ약품, 그 밖의 기물 등을 파괴ㆍ손상하거나 의료기관을 점거하여 진료를 방해하여서는 아니 되며, 이를 교사하거나 방조하여서는 아니 된다.\\n\\n③ 누구든지 의료행위가 이루어지는 장소에서 의료행위를 행하는 의료인, 제80조에 따른 간호조무사 및 「의료기사 등에 관한 법률」 제2조에 따른 의료기사 또는 의료행위를 받는 사람을 폭행ㆍ협박하여서는 아니 된다.<신설 2016. 5. 29.>\\n\\n\\n\\n제13조(의료기재 압류 금지) 의료인의 의료 업무에 필요한 기구ㆍ약품, 그 밖의 재료는 압류하지 못한다.\\n\\n\\n\\n제14조(기구 등 우선공급) ①의료인은 의료행위에 필요한 기구ㆍ약품, 그 밖의 시설 및 재료를 우선적으로 공급받을 권리가 있다.\\n\\n②의료인은 제1항의 권리에 부수(附隨)되는 물품, 노력, 교통수단에 대하여서도 제1항과 같은 권리가 있다.\\n\\n\\n\\n제15조(진료거부 금지 등) ①의료인 또는 의료기관 개설자는 진료나 조산 요청을 받으면 정당한 사유 없이 거부하지 못한다. <개정 2016. 12. 20.>\\n\\n②의료인은 응급환자에게 「응급의료에 관한 법률」에서 정하는 바에 따라 최선의 처치를 하여야 한다.'),\n",
       " Document(metadata={'source': './medical_with_markdown.docx', 'pk': '1'}, page_content='3. 한의사는 한방 의료와 한방 보건지도를 임무로 한다.\\n\\n4. 조산사는 조산(助産)과 임산부 및 신생아에 대한 보건과 양호지도를 임무로 한다.\\n\\n5. 간호사는 다음 각 목의 업무를 임무로 한다.\\n\\n가. 환자의 간호요구에 대한 관찰, 자료수집, 간호판단 및 요양을 위한 간호\\n\\n나. 의사, 치과의사, 한의사의 지도하에 시행하는 진료의 보조\\n\\n다. 간호 요구자에 대한 교육ㆍ상담 및 건강증진을 위한 활동의 기획과 수행, 그 밖의 대통령령으로 정하는 보건활동\\n\\n라. 제80조에 따른 간호조무사가 수행하는 가목부터 다목까지의 업무보조에 대한 지도\\n\\n\\n\\n제3조(의료기관) ①이 법에서 “의료기관”이란 의료인이 공중(公衆) 또는 특정 다수인을 위하여 의료ㆍ조산의 업(이하 “의료업”이라 한다)을 하는 곳을 말한다.\\n\\n② 의료기관은 다음 각 호와 같이 구분한다.<개정 2009. 1. 30., 2011. 6. 7., 2016. 5. 29., 2019. 4. 23., 2020. 3. 4.>\\n\\n1. 의원급 의료기관: 의사, 치과의사 또는 한의사가 주로 외래환자를 대상으로 각각 그 의료행위를 하는 의료기관으로서 그 종류는 다음 각 목과 같다.\\n\\n가. 의원\\n\\n나. 치과의원\\n\\n다. 한의원\\n\\n2. 조산원: 조산사가 조산과 임산부 및 신생아를 대상으로 보건활동과 교육ㆍ상담을 하는 의료기관을 말한다.\\n\\n3. 병원급 의료기관: 의사, 치과의사 또는 한의사가 주로 입원환자를 대상으로 의료행위를 하는 의료기관으로서 그 종류는 다음 각 목과 같다.\\n\\n가. 병원\\n\\n나. 치과병원\\n\\n다. 한방병원\\n\\n라. 요양병원(「장애인복지법」 제58조제1항제4호에 따른 의료재활시설로서 제3조의2의 요건을 갖춘 의료기관을 포함한다. 이하 같다)\\n\\n마. 정신병원\\n\\n바. 종합병원\\n\\n③ 보건복지부장관은 보건의료정책에 필요하다고 인정하는 경우에는 제2항제1호부터 제3호까지의 규정에 따른 의료기관의 종류별 표준업무를 정하여 고시할 수 있다.<개정 2009. 1. 30., 2010. 1. 18.>\\n\\n④ 삭제<2009. 1. 30.>\\n\\n⑤ 삭제<2009. 1. 30.>'),\n",
       " Document(metadata={'source': './medical_with_markdown.docx', 'pk': '0'}, page_content='의료법\\n\\n의료법\\n\\n[시행 2024. 5. 20.] [법률 제19421호, 2023. 5. 19., 일부개정]\\n\\n보건복지부(보건의료정책과 - 진료거부, 진료기록부) 044-202-2402, 2416\\n\\n보건복지부(보건의료정책과 - 진단서, 처방전, 의료행위 설명의무) 044-202-2402, 2406\\n\\n보건복지부(보건의료정책과 - 유인·알선, 의료광고) 044-202-2402, 2409\\n\\n보건복지부(보건의료정책과 - 전문병원, 안마사) 044-202-2405, 2415\\n\\n보건복지부(의료인력정책과 - 의료인 업무범위 등) 044-202-2437\\n\\n보건복지부(의료자원정책과 - 의료인 행정처분 등) 044-202-2453\\n\\n보건복지부(의료기관정책과 - 의료기관 개설, 기록열람, 의료기관 급식 기준 등) 044-202-2481\\n\\n보건복지부(의료기관정책과 - 의료기관 시설·인력기준 등) 044-202-2474\\n\\n질병관리청(의료감염관리과-의료관련감염 예방) 043-719-7584\\n\\n보건복지부(의료기관정책과 - 의료법인, 의료기관개설위원회) 044-202-2485\\n\\n\\n\\n제1장 총칙\\n\\n\\n\\n제1조(목적) 이 법은 모든 국민이 수준 높은 의료 혜택을 받을 수 있도록 국민의료에 필요한 사항을 규정함으로써 국민의 건강을 보호하고 증진하는 데에 목적이 있다.\\n\\n\\n\\n제2조(의료인) ①이 법에서 “의료인”이란 보건복지부장관의 면허를 받은 의사ㆍ치과의사ㆍ한의사ㆍ조산사 및 간호사를 말한다. <개정 2008. 2. 29., 2010. 1. 18.>\\n\\n②의료인은 종별에 따라 다음 각 호의 임무를 수행하여 국민보건 향상을 이루고 국민의 건강한 생활 확보에 이바지할 사명을 가진다.<개정 2015. 12. 29., 2019. 4. 23.>\\n\\n1. 의사는 의료와 보건지도를 임무로 한다.\\n\\n2. 치과의사는 치과 의료와 구강 보건지도를 임무로 한다.\\n\\n3. 한의사는 한방 의료와 한방 보건지도를 임무로 한다.\\n\\n4. 조산사는 조산(助産)과 임산부 및 신생아에 대한 보건과 양호지도를 임무로 한다.\\n\\n5. 간호사는 다음 각 목의 업무를 임무로 한다.')]"
      ]
     },
     "execution_count": 30,
     "metadata": {},
     "output_type": "execute_result"
    }
   ],
   "source": [
    "retriever = vector_store.as_retriever(search_kwargs={'k': 4})\n",
    "retriever.invoke(query)"
   ]
  },
  {
   "cell_type": "markdown",
   "metadata": {},
   "source": [
    "# 4. Augmentation을 위한 Prompt 활용"
   ]
  },
  {
   "cell_type": "markdown",
   "metadata": {},
   "source": [
    "- Retrieval 된 데이터는 LangChain에서 제공하는 프롬프트(\"rlm/rag-prompt\") 사용"
   ]
  },
  {
   "cell_type": "code",
   "execution_count": 31,
   "metadata": {},
   "outputs": [],
   "source": [
    "from langchain import hub\n",
    "\n",
    "prompt = hub.pull(\"rlm/rag-prompt\")"
   ]
  },
  {
   "cell_type": "markdown",
   "metadata": {},
   "source": [
    "# 5. 답변 생성"
   ]
  },
  {
   "cell_type": "markdown",
   "metadata": {},
   "source": [
    "- RetrievalQA를 통해 LLM에 전달\n",
    "    - RetrievalQA는 create_retrieval_chain으로 대체됨\n",
    "    - 실제 ChatBot 구현 시 create_retrieval_chain으로 변경하는 과정을 볼 수 있음\n",
    "- 하단의 dictionary_chain과 연계하여 사용"
   ]
  },
  {
   "cell_type": "code",
   "execution_count": 32,
   "metadata": {},
   "outputs": [],
   "source": [
    "from langchain_openai import ChatOpenAI\n",
    "\n",
    "llm = ChatOpenAI(model='gpt-4o')"
   ]
  },
  {
   "cell_type": "code",
   "execution_count": 33,
   "metadata": {},
   "outputs": [],
   "source": [
    "from langchain.chains import RetrievalQA\n",
    "\n",
    "qa_chain = RetrievalQA.from_chain_type(\n",
    "    llm,\n",
    "    retriever=retriever,\n",
    "    chain_type_kwargs={\"prompt\": prompt}\n",
    ")"
   ]
  },
  {
   "cell_type": "code",
   "execution_count": 34,
   "metadata": {},
   "outputs": [],
   "source": [
    "ai_message = qa_chain.invoke({\"query\": query})"
   ]
  },
  {
   "cell_type": "code",
   "execution_count": 35,
   "metadata": {},
   "outputs": [
    {
     "data": {
      "text/plain": [
       "{'query': '의료기관에서 의료사고가 발생했을 때, 병원과 의료진의 법적 책임은 어떻게 되나요?',\n",
       " 'result': '의료기관에서 의료사고가 발생했을 때, 병원과 의료진은 의료의 질을 높이고 환자에게 최선의 의료서비스를 제공할 의무를 위반한 경우 법적 책임을 질 수 있습니다. 또한, 진료 거부나 응급환자에 대한 적절한 처치를 하지 않은 경우에도 법적 책임이 따를 수 있습니다. 구체적인 법적 책임은 의료법 및 관련 법령에 따라 달라질 수 있습니다.'}"
      ]
     },
     "execution_count": 35,
     "metadata": {},
     "output_type": "execute_result"
    }
   ],
   "source": [
    "ai_message"
   ]
  },
  {
   "cell_type": "markdown",
   "metadata": {},
   "source": [
    "# 6. Retrieval을 위한 keyword 사전 활용"
   ]
  },
  {
   "cell_type": "markdown",
   "metadata": {},
   "source": [
    "- Knowledge Base에서 사용되는 keyword를 활용하여 사용자 질문 수정\n",
    "- LangChain Expression Language (LCEL)을 활용한 Chain 연계"
   ]
  },
  {
   "cell_type": "code",
   "execution_count": 36,
   "metadata": {},
   "outputs": [],
   "source": [
    "from langchain_core.output_parsers import StrOutputParser\n",
    "from langchain_core.prompts import ChatPromptTemplate\n",
    "\n",
    "# 의료법\n",
    "dictionary = [\n",
    "    \"의료기록의 관리와 보호를 나타내는 표현 -> 의료기록 관리\",\n",
    "    \"의료사고를 나타내는 표현 -> 의료사고\",\n",
    "    \"의료진의 법적 책임을 나타내는 표현 -> 의료진 법적 책임\",\n",
    "    \"환자의 권리를 나타내는 표현 -> 환자 권리\",\n",
    "    \"의료정보의 보호를 나타내는 표현 -> 의료정보 보호\"\n",
    "]\n",
    "\n",
    "prompt = ChatPromptTemplate.from_template(f\"\"\"\n",
    "    사용자의 질문을 보고, 우리의 사전을 참고해서 사용자의 질문을 변경해주세요.\n",
    "    만약 변경할 필요가 없다고 판단된다면, 사용자의 질문을 변경하지 않아도 됩니다.\n",
    "    그런 경우에는 질문만 리턴해주세요.\n",
    "    사전: {dictionary}\n",
    "\n",
    "    질문: {{question}}\n",
    "\"\"\")\n",
    "\n",
    "dictionary_chain = prompt | llm | StrOutputParser()"
   ]
  },
  {
   "cell_type": "code",
   "execution_count": 37,
   "metadata": {},
   "outputs": [],
   "source": [
    "new_question = dictionary_chain.invoke({\"question\": query})"
   ]
  },
  {
   "cell_type": "code",
   "execution_count": 38,
   "metadata": {},
   "outputs": [
    {
     "data": {
      "text/plain": [
       "'의료기관에서 의료사고가 발생했을 때, 병원과 의료진 법적 책임은 어떻게 되나요?'"
      ]
     },
     "execution_count": 38,
     "metadata": {},
     "output_type": "execute_result"
    }
   ],
   "source": [
    "new_question"
   ]
  },
  {
   "cell_type": "code",
   "execution_count": 39,
   "metadata": {},
   "outputs": [],
   "source": [
    "law_chain = {\"query\": dictionary_chain} | qa_chain"
   ]
  },
  {
   "cell_type": "code",
   "execution_count": 40,
   "metadata": {},
   "outputs": [],
   "source": [
    "ai_response = law_chain.invoke({\"question\": query})"
   ]
  },
  {
   "cell_type": "code",
   "execution_count": 41,
   "metadata": {},
   "outputs": [
    {
     "data": {
      "text/plain": [
       "{'query': '의료기관에서 의료사고가 발생했을 때, 병원과 의료진 법적 책임은 어떻게 되나요?',\n",
       " 'result': '의료기관에서 의료사고가 발생했을 경우, 병원과 의료진은 의료법 및 관련 법령에 따라 법적 책임을 지게 됩니다. 구체적으로, 의료인과 의료기관의 장은 환자에게 최선의 의료서비스를 제공할 의무가 있으며, 이를 위반하여 의료사고가 발생하면 법적 처벌을 받을 수 있습니다. 또한, 의료기관의 의료용 시설, 기재, 약품 등을 점거하거나 파괴하는 행위도 법적으로 금지되어 있습니다.'}"
      ]
     },
     "execution_count": 41,
     "metadata": {},
     "output_type": "execute_result"
    }
   ],
   "source": [
    "ai_response"
   ]
  },
  {
   "cell_type": "code",
   "execution_count": null,
   "metadata": {},
   "outputs": [],
   "source": []
  }
 ],
 "metadata": {
  "kernelspec": {
   "display_name": "inflearn-llm-application",
   "language": "python",
   "name": "python3"
  },
  "language_info": {
   "codemirror_mode": {
    "name": "ipython",
    "version": 3
   },
   "file_extension": ".py",
   "mimetype": "text/x-python",
   "name": "python",
   "nbconvert_exporter": "python",
   "pygments_lexer": "ipython3",
   "version": "3.12.4"
  }
 },
 "nbformat": 4,
 "nbformat_minor": 2
}
